{
  "nbformat": 4,
  "nbformat_minor": 0,
  "metadata": {
    "hide_input": false,
    "kernelspec": {
      "display_name": "Python 3",
      "language": "python",
      "name": "python3"
    },
    "language_info": {
      "codemirror_mode": {
        "name": "ipython",
        "version": 3
      },
      "file_extension": ".py",
      "mimetype": "text/x-python",
      "name": "python",
      "nbconvert_exporter": "python",
      "pygments_lexer": "ipython3",
      "version": "3.7.1"
    },
    "toc": {
      "base_numbering": 1,
      "nav_menu": {},
      "number_sections": true,
      "sideBar": true,
      "skip_h1_title": false,
      "title_cell": "Table of Contents",
      "title_sidebar": "Contents",
      "toc_cell": true,
      "toc_position": {},
      "toc_section_display": true,
      "toc_window_display": false
    },
    "varInspector": {
      "cols": {
        "lenName": 16,
        "lenType": 16,
        "lenVar": 40
      },
      "kernels_config": {
        "python": {
          "delete_cmd_postfix": "",
          "delete_cmd_prefix": "del ",
          "library": "var_list.py",
          "varRefreshCmd": "print(var_dic_list())"
        },
        "r": {
          "delete_cmd_postfix": ") ",
          "delete_cmd_prefix": "rm(",
          "library": "var_list.r",
          "varRefreshCmd": "cat(var_dic_list()) "
        }
      },
      "types_to_exclude": [
        "module",
        "function",
        "builtin_function_or_method",
        "instance",
        "_Feature"
      ],
      "window_display": false
    },
    "colab": {
      "provenance": []
    }
  },
  "cells": [
    {
      "cell_type": "code",
      "metadata": {
        "ExecuteTime": {
          "end_time": "2020-04-23T10:16:05.965275Z",
          "start_time": "2020-04-23T10:16:05.312704Z"
        },
        "id": "bZ7J0si68JdT"
      },
      "source": [
        "import gdown\n",
        "import re\n",
        "import tabulate\n",
        "\n",
        "import numpy as np\n",
        "import pandas as pd"
      ],
      "execution_count": null,
      "outputs": []
    },
    {
      "cell_type": "markdown",
      "metadata": {
        "id": "xjvL0IIG8Jd0"
      },
      "source": [
        "## Задание 0\n"
      ]
    },
    {
      "cell_type": "markdown",
      "metadata": {
        "id": "yaSxXHvxO0qo"
      },
      "source": [
        "Для всех  заданий будем использовать обезличенные транзакционные банковские данные. Для этого считайте в переменные **tr_mcc_codes, tr_types, transactions и gender_train** из одноимённых таблиц из папки [data](https://drive.google.com/drive/folders/1YAMe7MiTxA-RSSd8Ex2p-L0Dspe6Gs4L). \n",
        "\n",
        "Для таблицы transactions используйте только первые n=1000000 строк. При чтении файлов обратите внимание на разделители внутри каждого из файлов - они могут различаться!"
      ]
    },
    {
      "cell_type": "code",
      "source": [
        "download_pattern = 'https://drive.google.com/uc?id='\n",
        "filenames = [\n",
        "    'tr_mcc_codes.csv',\n",
        "    'tr_types.csv',\n",
        "    'transactions.csv',\n",
        "    'gender_train.csv'\n",
        "]\n",
        "share_urls = [\n",
        "    'https://drive.google.com/file/d/10J8RzMIhoYHiad49r-oWNMAk-V5lo3OE/view?usp=sharing',\n",
        "    'https://drive.google.com/file/d/1EP3KrATWS1I_qYdpRhYnSDl-eoBiOBQc/view?usp=sharing',\n",
        "    'https://drive.google.com/file/d/1lEpoRKczv5EvZhff9O2I-0JkdHnbe_Mq/view?usp=sharing',\n",
        "    'https://drive.google.com/file/d/1FG1fopcmvMZ7GBaBOqQipccSeFoMUvNT/view?usp=sharing'\n",
        "]\n",
        "\n",
        "ids = []\n",
        "for link in share_urls:\n",
        "    ids.append(re.search('/d/(.+?)/view', link).group(1))\n",
        "\n",
        "download_links = []\n",
        "for file_id in ids:\n",
        "    dwnld_link = download_pattern + file_id\n",
        "    download_links.append(dwnld_link)\n",
        "\n",
        "files = []\n",
        "for i in range(len(download_links)):\n",
        "    files.append(gdown.download(download_links[i], filenames[i]))\n",
        "\n",
        "files_info = pd.DataFrame(dtype=str,\n",
        "                          index=filenames,\n",
        "                          columns=[\n",
        "                              'file_name',\n",
        "                              'share_url',\n",
        "                              'id',\n",
        "                              'download_url',\n",
        "                              'file'\n",
        "                          ])\n",
        "\n",
        "files_info['file_name'] = filenames\n",
        "files_info['share_url'] = share_urls\n",
        "files_info['id'] = ids\n",
        "files_info['download_url'] = download_links\n",
        "files_info['file'] = files\n",
        "\n",
        "filenames.clear()\n",
        "share_urls.clear()\n",
        "ids.clear()\n",
        "download_links.clear()\n",
        "files.clear()\n",
        "\n",
        "\n",
        "def print_dataframe(dataframe):\n",
        "    print(tabulate.tabulate(dataframe, headers='keys', numalign='center', stralign='left', tablefmt='fancy_grid', ))\n",
        "\n",
        "\n",
        "print_dataframe(files_info)"
      ],
      "metadata": {
        "id": "qR8tW0hrzeK3",
        "colab": {
          "base_uri": "https://localhost:8080/"
        },
        "outputId": "56c64270-46d4-4507-ebc4-6ec697caa212"
      },
      "execution_count": null,
      "outputs": [
        {
          "output_type": "stream",
          "name": "stderr",
          "text": [
            "Downloading...\n",
            "From: https://drive.google.com/uc?id=10J8RzMIhoYHiad49r-oWNMAk-V5lo3OE\n",
            "To: /content/tr_mcc_codes.csv\n",
            "100%|██████████| 14.9k/14.9k [00:00<00:00, 5.60MB/s]\n",
            "Downloading...\n",
            "From: https://drive.google.com/uc?id=1EP3KrATWS1I_qYdpRhYnSDl-eoBiOBQc\n",
            "To: /content/tr_types.csv\n",
            "100%|██████████| 14.2k/14.2k [00:00<00:00, 20.2MB/s]\n",
            "Downloading...\n",
            "From: https://drive.google.com/uc?id=1lEpoRKczv5EvZhff9O2I-0JkdHnbe_Mq\n",
            "To: /content/transactions.csv\n",
            "100%|██████████| 314M/314M [00:02<00:00, 134MB/s]\n",
            "Downloading...\n",
            "From: https://drive.google.com/uc?id=1FG1fopcmvMZ7GBaBOqQipccSeFoMUvNT\n",
            "To: /content/gender_train.csv\n",
            "100%|██████████| 99.9k/99.9k [00:00<00:00, 12.0MB/s]"
          ]
        },
        {
          "output_type": "stream",
          "name": "stdout",
          "text": [
            "╒══════════════════╤══════════════════╤════════════════════════════════════════════════════════════════════════════════════╤═══════════════════════════════════╤══════════════════════════════════════════════════════════════════╤══════════════════╕\n",
            "│                  │ file_name        │ share_url                                                                          │ id                                │ download_url                                                     │ file             │\n",
            "╞══════════════════╪══════════════════╪════════════════════════════════════════════════════════════════════════════════════╪═══════════════════════════════════╪══════════════════════════════════════════════════════════════════╪══════════════════╡\n",
            "│ tr_mcc_codes.csv │ tr_mcc_codes.csv │ https://drive.google.com/file/d/10J8RzMIhoYHiad49r-oWNMAk-V5lo3OE/view?usp=sharing │ 10J8RzMIhoYHiad49r-oWNMAk-V5lo3OE │ https://drive.google.com/uc?id=10J8RzMIhoYHiad49r-oWNMAk-V5lo3OE │ tr_mcc_codes.csv │\n",
            "├──────────────────┼──────────────────┼────────────────────────────────────────────────────────────────────────────────────┼───────────────────────────────────┼──────────────────────────────────────────────────────────────────┼──────────────────┤\n",
            "│ tr_types.csv     │ tr_types.csv     │ https://drive.google.com/file/d/1EP3KrATWS1I_qYdpRhYnSDl-eoBiOBQc/view?usp=sharing │ 1EP3KrATWS1I_qYdpRhYnSDl-eoBiOBQc │ https://drive.google.com/uc?id=1EP3KrATWS1I_qYdpRhYnSDl-eoBiOBQc │ tr_types.csv     │\n",
            "├──────────────────┼──────────────────┼────────────────────────────────────────────────────────────────────────────────────┼───────────────────────────────────┼──────────────────────────────────────────────────────────────────┼──────────────────┤\n",
            "│ transactions.csv │ transactions.csv │ https://drive.google.com/file/d/1lEpoRKczv5EvZhff9O2I-0JkdHnbe_Mq/view?usp=sharing │ 1lEpoRKczv5EvZhff9O2I-0JkdHnbe_Mq │ https://drive.google.com/uc?id=1lEpoRKczv5EvZhff9O2I-0JkdHnbe_Mq │ transactions.csv │\n",
            "├──────────────────┼──────────────────┼────────────────────────────────────────────────────────────────────────────────────┼───────────────────────────────────┼──────────────────────────────────────────────────────────────────┼──────────────────┤\n",
            "│ gender_train.csv │ gender_train.csv │ https://drive.google.com/file/d/1FG1fopcmvMZ7GBaBOqQipccSeFoMUvNT/view?usp=sharing │ 1FG1fopcmvMZ7GBaBOqQipccSeFoMUvNT │ https://drive.google.com/uc?id=1FG1fopcmvMZ7GBaBOqQipccSeFoMUvNT │ gender_train.csv │\n",
            "╘══════════════════╧══════════════════╧════════════════════════════════════════════════════════════════════════════════════╧═══════════════════════════════════╧══════════════════════════════════════════════════════════════════╧══════════════════╛\n"
          ]
        },
        {
          "output_type": "stream",
          "name": "stderr",
          "text": [
            "\n"
          ]
        }
      ]
    },
    {
      "cell_type": "markdown",
      "metadata": {
        "id": "oP3lX9xC8Jd8"
      },
      "source": [
        "###  Описание данных\n",
        "#### Таблица ```transactions.csv```\n",
        "##### Описание\n",
        "Таблица содержит историю транзакций клиентов банка за один год и три месяца.\n",
        "\n",
        "##### Формат данных\n",
        "\n",
        "```\n",
        "customer_id,tr_datetime,mcc_code,tr_type,amount,term_id\n",
        "111111,15 01:40:52,1111,1000,-5224,111111\n",
        "111112,15 15:18:32,3333,2000,-100,11122233\n",
        "...\n",
        "```\n",
        "##### Описание полей\n",
        "\n",
        " - ```customer_id``` — идентификатор клиента;\n",
        " - ```tr_datetime``` — день и время совершения транзакции (дни нумеруются с начала данных);\n",
        " - ```mcc_code``` — mcc-код транзакции;\n",
        " - ```tr_type``` — тип транзакции;\n",
        " - ```amount``` — сумма транзакции в условных единицах со знаком; ```+``` — начисление средств клиенту (приходная транзакция), ```-``` — списание средств (расходная транзакция);\n",
        " - ```term_id``` — идентификатор терминала;\n",
        "\n",
        "\n",
        "#### Таблица ```gender_train.csv```\n",
        "\n",
        "##### Описание\n",
        "Данная таблица содержит информацию по полу для части клиентов, для которых он известен. Для остальных клиентов пол неизвестен.\n",
        "\n",
        "##### Формат данных\n",
        "```\n",
        "customer_id,gender\n",
        "111111,0\n",
        "111112,1\n",
        "...\n",
        "```\n",
        "\n",
        "##### Описание полей\n",
        " - ```customer_id``` — идентификатор клиента;\n",
        " - ```gender``` — пол клиента;\n",
        "\n",
        "### Таблица ```tr_mcc_codes.csv```\n",
        "\n",
        "##### Описание\n",
        "Данная таблица содержит описание mcc-кодов транзакций.\n",
        "\n",
        "##### Формат данных\n",
        "```\n",
        "mcc_code;mcc_description\n",
        "1000;словесное описание mcc-кода 1000\n",
        "2000;словесное описание mcc-кода 2000\n",
        "...\n",
        "```\n",
        "\n",
        "##### Описание полей\n",
        " - ```mcc_code``` – mcc-код транзакции;\n",
        " - ```mcc_description``` — описание mcc-кода транзакции.\n",
        "\n",
        "#### Таблица ```tr_types.csv```\n",
        "\n",
        "##### Описание\n",
        "Данная таблица содержит описание типов транзакций.\n",
        "\n",
        "##### Формат данных\n",
        "```\n",
        "tr_type;tr_description\n",
        "1000;словесное описание типа транзакции 1000\n",
        "2000;словесное описание типа транзакции 2000\n",
        "...\n",
        "```\n",
        "\n",
        "##### Описание полей\n",
        " - ```tr_type``` – тип транзакции;\n",
        " - ```tr_description``` — описание типа транзакции;"
      ]
    },
    {
      "cell_type": "code",
      "source": [
        "# чтение файлов в DataFrame\n",
        "\n",
        "tr_mcc_codes = pd.read_csv(filepath_or_buffer=files_info['file_name']['tr_mcc_codes.csv'],\n",
        "                           sep=';',\n",
        "                           index_col='mcc_code',\n",
        "                           usecols=['mcc_code', 'mcc_description'])\n",
        "\n",
        "tr_types = pd.read_csv(filepath_or_buffer=files_info['file_name']['tr_types.csv'],\n",
        "                       sep=';',\n",
        "                       index_col='tr_type',\n",
        "                       usecols=['tr_type', 'tr_description'])\n",
        "\n",
        "transactions = pd.read_csv(filepath_or_buffer=files_info['file_name']['transactions.csv'],\n",
        "                           sep=',',\n",
        "                           nrows=1000000,\n",
        "                           index_col='customer_id',\n",
        "                           usecols=['customer_id', 'tr_datetime', 'mcc_code', 'tr_type', 'amount', 'term_id'])\n",
        "\n",
        "gender_train = pd.read_csv(filepath_or_buffer=files_info['file_name']['gender_train.csv'],\n",
        "                           sep=',',\n",
        "                           index_col='customer_id',\n",
        "                           usecols=['customer_id', 'gender'])"
      ],
      "metadata": {
        "id": "-nGTVVy7P-B8"
      },
      "execution_count": null,
      "outputs": []
    },
    {
      "cell_type": "markdown",
      "metadata": {
        "id": "04CYsBKz8JeB"
      },
      "source": [
        "\n",
        "Задания 1-4 делаются без использования merge!\n",
        "\n",
        "## Задание 1\n",
        "\n"
      ]
    },
    {
      "cell_type": "markdown",
      "metadata": {
        "id": "1hcrfwsYN_Yz"
      },
      "source": [
        "1. Для столбца tr_type датафрейма transactions выберите произвольные 1000 строк с помощью метода sample\n",
        "2. В полученной на предыдущем этапе подвыборке найдите долю транзакций (стобец tr_description в датасете tr_types), в которой содержится подстрока 'POS' или 'ATM'\n"
      ]
    },
    {
      "cell_type": "code",
      "source": [
        "subsample = transactions['tr_type'].sample(1000)  # Series of types\n",
        "subsample_info = pd.DataFrame(\n",
        "    index=subsample,\n",
        "    columns=['tr_description']\n",
        ")\n",
        "subsample_info.update(tr_types.tr_description)\n",
        "\n",
        "pattern = 'POS|АТМ'\n",
        "tr_types_contained_pattern = subsample_info[(subsample_info.tr_description.str.contains(pattern)) == True]\n",
        "\n",
        "print(\"Соотношение имеющих в описании типа транзакции POS|АТМ ко всем типам транзакции в случайной выборке =\",\n",
        "      tr_types_contained_pattern.size / subsample_info.size)\n",
        "\n",
        "\n",
        "\n",
        "\n",
        "\n",
        "# # В цикле по типам найти этот тип в другой таблице и проверить его описание. Если описание содержит нужный паттерн - \n",
        "# # увеличить количество. \n",
        "# def count_strs_contained_pattern(sample, sub_sample, pattern):\n",
        "#     count = 0\n",
        "#     for item in sub_sample:\n",
        "#         if re.search(pattern, sample.loc[item]) is not None:\n",
        "#             count += 1\n",
        "#     return count\n",
        "\n",
        "\n",
        "# subsample = transactions['tr_type'].sample(1000)  # Series of types\n",
        "# types_contained_condition = count_strs_contained_pattern(sample=tr_types.tr_description,\n",
        "#                                                          sub_sample=subsample,\n",
        "#                                                          pattern='POS|АТМ')\n",
        "\n",
        "# print(\"Соотношение имеющих в описании типа транзакции POS|АТМ ко всем типам транзакции в случайной выборке = \",\n",
        "#       types_contained_condition / subsample.size)"
      ],
      "metadata": {
        "id": "6lj1lo6jSLqr",
        "colab": {
          "base_uri": "https://localhost:8080/"
        },
        "outputId": "720465fb-1611-4832-f12f-1cb52ef4ba9c"
      },
      "execution_count": null,
      "outputs": [
        {
          "output_type": "stream",
          "name": "stdout",
          "text": [
            "Соотношение имеющих в описании типа транзакции POS|АТМ ко всем типам транзакции в случайной выборке = 0.61\n"
          ]
        }
      ]
    },
    {
      "cell_type": "markdown",
      "metadata": {
        "id": "fiZBDIZt8JeS"
      },
      "source": [
        "## Задание 2 \n"
      ]
    },
    {
      "cell_type": "markdown",
      "metadata": {
        "id": "FFKeBUThOCrz"
      },
      "source": [
        "1. Для столбца tr_type датафрейма transactions посчитайте частоту встречаемости всех типов транзакций tr_type в transactions.\n",
        "2. Выведите топ-10 транзакций по частоте встречаемости (вывести для них tr_description тоже)."
      ]
    },
    {
      "cell_type": "code",
      "source": [
        "types_frequency = pd.DataFrame(\n",
        "    index=tr_types.index,\n",
        "    columns=['occurrence', 'tr_description'],\n",
        ")\n",
        "\n",
        "types_frequency.occurrence = transactions.tr_type.value_counts()\n",
        "types_frequency.update(tr_types.tr_description)\n",
        "top10 = types_frequency.sort_values(by='occurrence', ignore_index=False, ascending=False).head(10)\n",
        "\n",
        "print_dataframe(top10)\n",
        "\n",
        "\n",
        "\n",
        "\n",
        "# types_frequency = pd.DataFrame(\n",
        "#     index=tr_types.index,\n",
        "#     columns=['occurrence', 'tr_description'],\n",
        "# )\n",
        "\n",
        "# for type_of_transaction in tr_types.index:\n",
        "#     types_frequency.occurrence[type_of_transaction] = \\\n",
        "#         transactions.tr_type[(transactions.tr_type == type_of_transaction)].size\n",
        "#     types_frequency.tr_description[type_of_transaction] = tr_types.tr_description[type_of_transaction]\n",
        "\n",
        "# sorted_occurrence = types_frequency.sort_values(by='occurrence', ignore_index=False, ascending=False).head(10)\n",
        "# print_dataframe(sorted_occurrence)\n"
      ],
      "metadata": {
        "colab": {
          "base_uri": "https://localhost:8080/"
        },
        "id": "pvQgTUOWJJn-",
        "outputId": "ec4089d2-6ea4-48d3-df08-4f4c4e65922b"
      },
      "execution_count": null,
      "outputs": [
        {
          "output_type": "stream",
          "name": "stdout",
          "text": [
            "╒═══════════╤══════════════╤═══════════════════════════════════════════════════════════════════════════════════════════════════════╕\n",
            "│  tr_type  │  occurrence  │ tr_description                                                                                        │\n",
            "╞═══════════╪══════════════╪═══════════════════════════════════════════════════════════════════════════════════════════════════════╡\n",
            "│   1010    │    231117    │ Покупка. POS ТУ СБ РФ                                                                                 │\n",
            "├───────────┼──────────────┼───────────────────────────────────────────────────────────────────────────────────────────────────────┤\n",
            "│   2010    │    151166    │ Выдача наличных в АТМ Сбербанк России                                                                 │\n",
            "├───────────┼──────────────┼───────────────────────────────────────────────────────────────────────────────────────────────────────┤\n",
            "│   7070    │    149006    │ Перевод на карту (с карты) через Мобильный банк (без взимания комиссии с отправителя)                 │\n",
            "├───────────┼──────────────┼───────────────────────────────────────────────────────────────────────────────────────────────────────┤\n",
            "│   1110    │    137658    │ Покупка. POS ТУ Россия                                                                                │\n",
            "├───────────┼──────────────┼───────────────────────────────────────────────────────────────────────────────────────────────────────┤\n",
            "│   1030    │    118975    │ Оплата услуги. Банкоматы СБ РФ                                                                        │\n",
            "├───────────┼──────────────┼───────────────────────────────────────────────────────────────────────────────────────────────────────┤\n",
            "│   2370    │    49830     │ Списание с карты на карту по операции <перевода с карты на карту> через Мобильный банк (без комиссии) │\n",
            "├───────────┼──────────────┼───────────────────────────────────────────────────────────────────────────────────────────────────────┤\n",
            "│   7010    │    28972     │ Взнос наличных через АТМ (в своем тер.банке)                                                          │\n",
            "├───────────┼──────────────┼───────────────────────────────────────────────────────────────────────────────────────────────────────┤\n",
            "│   7030    │    26078     │ Перевод на карту (с карты) через АТМ (в пределах одного тер.банка)                                    │\n",
            "├───────────┼──────────────┼───────────────────────────────────────────────────────────────────────────────────────────────────────┤\n",
            "│   7071    │    15781     │ Перевод на карту (с карты) через Мобильный банк (с взиманием комиссии с отправителя)                  │\n",
            "├───────────┼──────────────┼───────────────────────────────────────────────────────────────────────────────────────────────────────┤\n",
            "│   1100    │    15476     │ Покупка. ТУ  Россия                                                                                   │\n",
            "╘═══════════╧══════════════╧═══════════════════════════════════════════════════════════════════════════════════════════════════════╛\n"
          ]
        }
      ]
    },
    {
      "cell_type": "markdown",
      "metadata": {
        "id": "mktm_JeA8JeX"
      },
      "source": [
        "## Задание 3\n",
        "1. В датафрейме transactions найдите клиента с максимальной суммой приходов на карту\n",
        "2. В датафрейме transactions найдите клиента с максимальной суммой расходов по карте\n",
        "3. Найдите модуль разницы для этих клиентов между суммой расходов и суммой приходов"
      ]
    },
    {
      "cell_type": "code",
      "source": [
        "customer_info = pd.DataFrame(\n",
        "    index=transactions.index.unique(),\n",
        "    columns=['expenses', 'deposits']\n",
        ")\n",
        "\n",
        "groups_of_customer = transactions.groupby(level='customer_id')\n",
        "\n",
        "for customer_id, operations in groups_of_customer:\n",
        "    positive_sum = operations.amount[operations.amount > 0.0].sum()\n",
        "    negative_sum = operations.amount[operations.amount < 0.0].sum()\n",
        "\n",
        "    customer = pd.Series(data={\n",
        "        'expenses': round(negative_sum, 3),\n",
        "        'deposits': round(positive_sum, 3)\n",
        "    })\n",
        "    customer_info.loc[customer_id] = customer\n",
        "\n",
        "customer_info['difference'] = np.abs(customer_info.deposits + customer_info.expenses)\n",
        "\n",
        "min_customer = customer_info.sort_values(by='expenses', ignore_index=False, ascending=True).head(1)\n",
        "max_customer = customer_info.sort_values(by='deposits', ignore_index=False, ascending=False).head(1)\n",
        "\n",
        "print(\"\\nКлиент с максимальной суммой приходов на карту: \")\n",
        "print_dataframe(max_customer)\n",
        "\n",
        "print(\"\\nКлиент с максимальной суммой расходов на карту: \")\n",
        "print_dataframe(min_customer)"
      ],
      "metadata": {
        "colab": {
          "base_uri": "https://localhost:8080/"
        },
        "id": "3SC5ReET5_VP",
        "outputId": "8e87f94b-5c27-435a-ba23-68367d38bb90"
      },
      "execution_count": null,
      "outputs": [
        {
          "output_type": "stream",
          "name": "stdout",
          "text": [
            "\n",
            "Клиент с максимальной суммой приходов на карту: \n",
            "╒═══════════════╤══════════════╤═════════════╤══════════════╕\n",
            "│  customer_id  │   expenses   │  deposits   │  difference  │\n",
            "╞═══════════════╪══════════════╪═════════════╪══════════════╡\n",
            "│   70780820    │ -1.24995e+09 │ 1.24811e+09 │ 1.83732e+06  │\n",
            "╘═══════════════╧══════════════╧═════════════╧══════════════╛\n",
            "\n",
            "Клиент с максимальной суммой расходов на карту: \n",
            "╒═══════════════╤══════════════╤═════════════╤══════════════╕\n",
            "│  customer_id  │   expenses   │  deposits   │  difference  │\n",
            "╞═══════════════╪══════════════╪═════════════╪══════════════╡\n",
            "│   70780820    │ -1.24995e+09 │ 1.24811e+09 │ 1.83732e+06  │\n",
            "╘═══════════════╧══════════════╧═════════════╧══════════════╛\n"
          ]
        }
      ]
    },
    {
      "cell_type": "markdown",
      "metadata": {
        "id": "BYrJ5b_E8Jee"
      },
      "source": [
        "## Задание 4\n",
        "1. Найдите среднее арифметическое и медиану по amount по всем типам транзакций из топ 10 из задания 2\n",
        "1. Найдите среднее арифметическое и медиану по amount по всем типам транзакций для клиентов из задания 3"
      ]
    },
    {
      "cell_type": "code",
      "source": [
        "tr_types_top10_info = pd.DataFrame(\n",
        "    index=top10.index,\n",
        ")\n",
        "\n",
        "all_top10_tr_groups = transactions[transactions.tr_type.isin(top10.index)].groupby('tr_type')\n",
        "\n",
        "tr_types_top10_info['mean'] = all_top10_tr_groups.amount.mean()\n",
        "tr_types_top10_info['median'] = all_top10_tr_groups.amount.median()\n",
        "\n",
        "print(\"\\nИнформация о amount по всем типам транзакций из топ 10 (результат задания 2):\")\n",
        "print_dataframe(tr_types_top10_info)\n",
        "\n",
        "\n",
        "def get_mean_and_median_for_each_tr_type_of_customer(id_of_cus):\n",
        "    all_customer_transactions = transactions.loc[id_of_cus].groupby(by='tr_type', as_index=True)\n",
        "    mean = all_customer_transactions.amount.mean()\n",
        "    median = all_customer_transactions.amount.median()\n",
        "    return mean, median\n",
        "\n",
        "\n",
        "min_customer_id = min_customer.index[0]\n",
        "max_customer_id = max_customer.index[0]\n",
        "tr_types_min_customer_info = pd.DataFrame(index=transactions.loc[min_customer_id].tr_type.unique())\n",
        "tr_types_max_customer_info = pd.DataFrame(index=transactions.loc[max_customer_id].tr_type.unique())\n",
        "\n",
        "\n",
        "tr_types_min_customer_info['mean'], tr_types_min_customer_info['median'] = \\\n",
        "    get_mean_and_median_for_each_tr_type_of_customer(min_customer_id)\n",
        "\n",
        "if min_customer_id == max_customer_id:\n",
        "    print(\"\\nТ.к. идентификаторы клиента с максимальной суммой приходов на карту и \"\n",
        "          \"клиента с максимальной суммой расходов по карте совпадают, таблица для одного человека только одна:\")\n",
        "    print_dataframe(tr_types_min_customer_info)\n",
        "else:\n",
        "    print(\"\\nИнформация о amount по всем типам транзакций для клиента с максимальной суммой расходов по карте\"\n",
        "          \" (результат задания 3):\")\n",
        "    print_dataframe(tr_types_min_customer_info)\n",
        "\n",
        "    tr_types_max_customer_info['mean'], tr_types_min_customer_info['median'] = \\\n",
        "        get_mean_and_median_for_each_tr_type_of_customer(min_customer_id)\n",
        "\n",
        "    print(\"\\nИнформация о amount по всем типам транзакций для клиента с максимальной суммой приходов на карту\"\n",
        "          \" (результат задания 3):\")\n",
        "    print_dataframe(tr_types_max_customer_info)"
      ],
      "metadata": {
        "colab": {
          "base_uri": "https://localhost:8080/"
        },
        "id": "R4BxjJQhCnef",
        "outputId": "f0c7eb82-a658-46fd-c289-0243317913e9"
      },
      "execution_count": null,
      "outputs": [
        {
          "output_type": "stream",
          "name": "stdout",
          "text": [
            "\n",
            "Информация о amount по всем типам транзакций из топ 10 (результат задания 2):\n",
            "╒═══════════╤══════════╤══════════╕\n",
            "│  tr_type  │   mean   │  median  │\n",
            "╞═══════════╪══════════╪══════════╡\n",
            "│   1010    │ -19784.7 │ -7411.52 │\n",
            "├───────────┼──────────┼──────────┤\n",
            "│   2010    │ -136078  │ -44918.3 │\n",
            "├───────────┼──────────┼──────────┤\n",
            "│   7070    │ 65569.8  │ 11319.4  │\n",
            "├───────────┼──────────┼──────────┤\n",
            "│   1110    │ -32119.3 │ -11207.6 │\n",
            "├───────────┼──────────┼──────────┤\n",
            "│   1030    │ -5320.98 │ -2245.92 │\n",
            "├───────────┼──────────┼──────────┤\n",
            "│   2370    │ -205418  │ -44918.3 │\n",
            "├───────────┼──────────┼──────────┤\n",
            "│   7010    │  276392  │  112296  │\n",
            "├───────────┼──────────┼──────────┤\n",
            "│   7030    │ 86104.3  │ 13951.5  │\n",
            "├───────────┼──────────┼──────────┤\n",
            "│   7071    │ 66806.8  │ 3593.47  │\n",
            "├───────────┼──────────┼──────────┤\n",
            "│   1100    │ -44061.8 │ -10188.3 │\n",
            "╘═══════════╧══════════╧══════════╛\n",
            "\n",
            "Т.к. идентификаторы клиента с максимальной суммой приходов на карту и клиента с максимальной суммой расходов по карте совпадают, таблица для одного человека только одна:\n",
            "╒══════╤══════════════╤══════════════╕\n",
            "│      │     mean     │    median    │\n",
            "╞══════╪══════════════╪══════════════╡\n",
            "│ 7030 │    14062     │   8848.91    │\n",
            "├──────┼──────────────┼──────────────┤\n",
            "│ 7070 │   13848.2    │   8714.15    │\n",
            "├──────┼──────────────┼──────────────┤\n",
            "│ 7071 │   18600.6    │   12543.4    │\n",
            "├──────┼──────────────┼──────────────┤\n",
            "│ 7020 │   14651.3    │    10320     │\n",
            "├──────┼──────────────┼──────────────┤\n",
            "│ 7031 │   19210.4    │   12992.6    │\n",
            "├──────┼──────────────┼──────────────┤\n",
            "│ 2370 │ -2.2185e+06  │ -2.24592e+06 │\n",
            "├──────┼──────────────┼──────────────┤\n",
            "│ 2010 │ -2.94106e+06 │ -3.36887e+06 │\n",
            "├──────┼──────────────┼──────────────┤\n",
            "│ 6110 │   17562.9    │    10028     │\n",
            "├──────┼──────────────┼──────────────┤\n",
            "│ 7074 │   22811.6    │   9387.93    │\n",
            "├──────┼──────────────┼──────────────┤\n",
            "│ 7034 │   14306.5    │   14306.5    │\n",
            "├──────┼──────────────┼──────────────┤\n",
            "│ 7040 │   21538.3    │   14396.3    │\n",
            "├──────┼──────────────┼──────────────┤\n",
            "│ 2330 │ -2.3824e+06  │ -2.24592e+06 │\n",
            "├──────┼──────────────┼──────────────┤\n",
            "│ 7021 │   28500.7    │   28500.7    │\n",
            "╘══════╧══════════════╧══════════════╛\n"
          ]
        }
      ]
    },
    {
      "cell_type": "markdown",
      "metadata": {
        "id": "BYXwM4l3QDBu"
      },
      "source": [
        "## Подготовка для заданий 5-8"
      ]
    },
    {
      "cell_type": "markdown",
      "metadata": {
        "id": "XWQzFeKcQHRe"
      },
      "source": [
        "*Из заданий 5-8 нужно выполнить минимум два любых*\n",
        "\n",
        "Соедините transactions с всеми остальными таблицами (tr_mcc_codes, tr_types, gender_train). Причём с gender_train необходимо смёрджиться с помощью left join, а с оставшимися датафреймами - через inner.\n",
        "После получения результата таблицы gender_train, tr_types, tr_mcc_codes можно удалить. В результате соединения датафреймов должно получиться 999584 строки."
      ]
    },
    {
      "cell_type": "code",
      "metadata": {
        "id": "sndJxjJ7QQf5",
        "colab": {
          "base_uri": "https://localhost:8080/"
        },
        "outputId": "eabf1340-0ebf-41dd-fc24-45b242616973"
      },
      "source": [
        "transactions = pd.merge(transactions.reset_index(), gender_train.reset_index(), how='left')\n",
        "transactions = pd.merge(transactions.reset_index(), tr_mcc_codes.reset_index(), how='inner')\n",
        "transactions = pd.merge(transactions.reset_index(), tr_types.reset_index(), how='inner')\n",
        "print_dataframe(transactions.sample(10))\n",
        "print(\"Размеры соединённой матрицы:\", transactions.shape)\n",
        "\n",
        "genders = {\n",
        "    'male': 0,\n",
        "    'female': 1\n",
        "}"
      ],
      "execution_count": null,
      "outputs": [
        {
          "output_type": "stream",
          "name": "stdout",
          "text": [
            "╒════════╤═══════════╤═════════╤═══════════════╤═══════════════╤════════════╤═══════════╤══════════╤═════════════╤══════════╤════════════════════════════════════════════════════════╤═══════════════════════════════════════════════════════════════════════════════════════╕\n",
            "│        │  level_0  │  index  │  customer_id  │ tr_datetime   │  mcc_code  │  tr_type  │  amount  │   term_id   │  gender  │ mcc_description                                        │ tr_description                                                                        │\n",
            "╞════════╪═══════════╪═════════╪═══════════════╪═══════════════╪════════════╪═══════════╪══════════╪═════════════╪══════════╪════════════════════════════════════════════════════════╪═══════════════════════════════════════════════════════════════════════════════════════╡\n",
            "│ 387945 │  769647   │ 363828  │   36659899    │ 167 08:13:38  │    5411    │   1010    │ -1953.95 │     nan     │   nan    │ Бакалейные магазины, супермаркеты                      │ Покупка. POS ТУ СБ РФ                                                                 │\n",
            "├────────┼───────────┼─────────┼───────────────┼───────────────┼────────────┼───────────┼──────────┼─────────────┼──────────┼────────────────────────────────────────────────────────┼───────────────────────────────────────────────────────────────────────────────────────┤\n",
            "│ 792583 │  361950   │ 559557  │   42052798    │ 454 14:52:13  │    4829    │   4071    │  -112.3  │   888902    │    0     │ Денежные переводы                                      │ Плата за перевод на карту (с карты) через Мобильный банк                              │\n",
            "├────────┼───────────┼─────────┼───────────────┼───────────────┼────────────┼───────────┼──────────┼─────────────┼──────────┼────────────────────────────────────────────────────────┼───────────────────────────────────────────────────────────────────────────────────────┤\n",
            "│ 499163 │  968485   │ 745852  │   43046245    │ 145 13:05:13  │    5947    │   1010    │  -86333  │     nan     │   nan    │ Магазины открыток, подарков, новинок и сувениров       │ Покупка. POS ТУ СБ РФ                                                                 │\n",
            "├────────┼───────────┼─────────┼───────────────┼───────────────┼────────────┼───────────┼──────────┼─────────────┼──────────┼────────────────────────────────────────────────────────┼───────────────────────────────────────────────────────────────────────────────────────┤\n",
            "│ 698023 │  318481   │ 994737  │   74285914    │ 435 12:56:26  │    6011    │   2010    │ -67377.5 │   992449    │   nan    │ Финансовые институты — снятие наличности автоматически │ Выдача наличных в АТМ Сбербанк России                                                 │\n",
            "├────────┼───────────┼─────────┼───────────────┼───────────────┼────────────┼───────────┼──────────┼─────────────┼──────────┼────────────────────────────────────────────────────────┼───────────────────────────────────────────────────────────────────────────────────────┤\n",
            "│ 184430 │  759120   │ 299178  │   28793526    │ 452 00:00:00  │    5411    │   1110    │ -13250.9 │ 2.50106e+07 │    1     │ Бакалейные магазины, супермаркеты                      │ Покупка. POS ТУ Россия                                                                │\n",
            "├────────┼───────────┼─────────┼───────────────┼───────────────┼────────────┼───────────┼──────────┼─────────────┼──────────┼────────────────────────────────────────────────────────┼───────────────────────────────────────────────────────────────────────────────────────┤\n",
            "│ 444135 │  864697   │ 841338  │   76132762    │ 84 07:36:12   │    5812    │   1010    │ -1976.41 │     nan     │   nan    │ Места общественного питания, рестораны                 │ Покупка. POS ТУ СБ РФ                                                                 │\n",
            "├────────┼───────────┼─────────┼───────────────┼───────────────┼────────────┼───────────┼──────────┼─────────────┼──────────┼────────────────────────────────────────────────────────┼───────────────────────────────────────────────────────────────────────────────────────┤\n",
            "│ 663576 │  272749   │ 769696  │   21588377    │ 59 19:56:09   │    6011    │   2010    │ -44918.3 │     nan     │   nan    │ Финансовые институты — снятие наличности автоматически │ Выдача наличных в АТМ Сбербанк России                                                 │\n",
            "├────────┼───────────┼─────────┼───────────────┼───────────────┼────────────┼───────────┼──────────┼─────────────┼──────────┼────────────────────────────────────────────────────────┼───────────────────────────────────────────────────────────────────────────────────────┤\n",
            "│ 996554 │  636435   │ 765158  │   31967438    │ 130 03:13:00  │    6010    │   7031    │  336887  │     nan     │    0     │ Финансовые институты — снятие наличности вручную       │ Перевод на карту (с карты) через АТМ (из одного ТБ в другой ТБ)                       │\n",
            "├────────┼───────────┼─────────┼───────────────┼───────────────┼────────────┼───────────┼──────────┼─────────────┼──────────┼────────────────────────────────────────────────────────┼───────────────────────────────────────────────────────────────────────────────────────┤\n",
            "│ 443271 │  862931   │ 732493  │   35680778    │ 74 12:54:47   │    5812    │   1010    │ -3121.82 │     nan     │    1     │ Места общественного питания, рестораны                 │ Покупка. POS ТУ СБ РФ                                                                 │\n",
            "├────────┼───────────┼─────────┼───────────────┼───────────────┼────────────┼───────────┼──────────┼─────────────┼──────────┼────────────────────────────────────────────────────────┼───────────────────────────────────────────────────────────────────────────────────────┤\n",
            "│ 809408 │  481002   │ 109386  │   87629740    │ 38 09:50:54   │    6010    │   7070    │  112296  │     nan     │    1     │ Финансовые институты — снятие наличности вручную       │ Перевод на карту (с карты) через Мобильный банк (без взимания комиссии с отправителя) │\n",
            "╘════════╧═══════════╧═════════╧═══════════════╧═══════════════╧════════════╧═══════════╧══════════╧═════════════╧══════════╧════════════════════════════════════════════════════════╧═══════════════════════════════════════════════════════════════════════════════════════╛\n",
            "Размеры соединённой матрицы: (999584, 11)\n"
          ]
        }
      ]
    },
    {
      "cell_type": "markdown",
      "metadata": {
        "id": "8vrFauJ8QgmT"
      },
      "source": [
        "## Задание 5"
      ]
    },
    {
      "cell_type": "markdown",
      "metadata": {
        "id": "rOjEQ5xyQfE_"
      },
      "source": [
        "1. Определите модуль разницы между средними тратами женщин и мужчин (трата - отрицательное значение amount).\n",
        "2. Определите модуль разницы между средними поступлениями у мужчин и женщин\n",
        "\n",
        "Обратите внимание, что для вычисления модуля разности точных знаний о том, \n",
        "какой класc относится к мужчинам, а какой - к женщинам, не требуется."
      ]
    },
    {
      "cell_type": "code",
      "source": [
        "diff_expenses = np.abs(transactions[(transactions.gender == genders['female']) & (transactions.amount < 0.0)].amount.mean() -\n",
        "                       transactions[(transactions.gender == genders['male']) & (transactions.amount < 0.0)].amount.mean())\n",
        "\n",
        "diff_deposits = (np.abs(transactions[(transactions.gender == genders['male']) & (transactions.amount > 0.0)].amount.mean() -\n",
        "                        transactions[(transactions.gender == genders['female']) & (transactions.amount > 0.0)].amount.mean()))\n",
        "\n",
        "print(\"\\nМодуль разницы между средними тратами женщин и мужчин = \", round(diff_expenses, 3))\n",
        "print(\"Модуль разницы между средними поступлениями у мужчин и женщин = \", round(diff_deposits, 3))"
      ],
      "metadata": {
        "colab": {
          "base_uri": "https://localhost:8080/"
        },
        "id": "jufBPYE7QOHN",
        "outputId": "8ca3f5a6-b696-43ac-a151-77b73e845042"
      },
      "execution_count": null,
      "outputs": [
        {
          "output_type": "stream",
          "name": "stdout",
          "text": [
            "\n",
            "Модуль разницы между средними тратами женщин и мужчин =  32718.055\n",
            "Модуль разницы между средними поступлениями у мужчин и женщин =  63366.571\n"
          ]
        }
      ]
    },
    {
      "cell_type": "markdown",
      "metadata": {
        "id": "DSHFLbepQ7G1"
      },
      "source": [
        "## Задание 6"
      ]
    },
    {
      "cell_type": "markdown",
      "metadata": {
        "id": "2EF1490bQ-17"
      },
      "source": [
        "1. По всем типам транзакций рассчитайте максимальную сумму прихода на карту (из строго положительных сумм по столбцу amount) отдельно для мужчин и женщин (назовите ее \"max_income\"). Оставьте по 10 типов транзакций для мужчин и для женщин, наименьших среди всех типов транзакций по полученным значениям \"max_income\". \n",
        "2. Выделите среди них те типы транзакций, которые встречаются одновременно и у мужчин, и у женщин"
      ]
    },
    {
      "cell_type": "code",
      "source": [
        "male_max_incomes = transactions[(transactions.amount > 0.0) & (transactions.gender == genders['male'])].\\\n",
        "    groupby('tr_type').amount.max()\n",
        "female_max_incomes = transactions[(transactions.amount > 0.0) & (transactions.gender == genders['female'])].\\\n",
        "    groupby('tr_type').amount.max()\n",
        "\n",
        "top10_lowest_male_max_incomes = male_max_incomes.sort_values(ignore_index=False, ascending=True).head(10)\n",
        "top10_lowest_female_max_incomes = female_max_incomes.sort_values(ignore_index=False, ascending=True).head(10)\n",
        "\n",
        "intersected_values = pd.DataFrame(\n",
        "    index=pd.Series(np.intersect1d(top10_lowest_male_max_incomes.index, top10_lowest_female_max_incomes.index)),\n",
        "    columns=['max_income_male', 'max_income_female'],\n",
        ")\n",
        "\n",
        "intersected_values['max_income_male'] = \\\n",
        "    top10_lowest_male_max_incomes[top10_lowest_male_max_incomes.index.isin(intersected_values.index)]\n",
        "intersected_values['max_income_female'] = \\\n",
        "    top10_lowest_female_max_incomes[top10_lowest_female_max_incomes.index.isin(intersected_values.index)]\n",
        "\n",
        "print(\"\\nТоп 10 типов транзакций с наименьшей максимальной суммой прихода среди мужчин:\")\n",
        "print_dataframe(pd.DataFrame(top10_lowest_male_max_incomes))\n",
        "\n",
        "print(\"\\nТоп 10 типов транзакций с наименьшей максимальной суммой прихода среди женщин:\")\n",
        "print_dataframe(pd.DataFrame(top10_lowest_female_max_incomes))\n",
        "\n",
        "print(\"\\n Типы транзакций, которые встречаются одновременно и у мужчин, и у женщин:\")\n",
        "print_dataframe(intersected_values)"
      ],
      "metadata": {
        "id": "rlpNYKSMIB7S",
        "colab": {
          "base_uri": "https://localhost:8080/"
        },
        "outputId": "44bc1456-a199-4b37-8c3d-1ab8d6c8257f"
      },
      "execution_count": null,
      "outputs": [
        {
          "output_type": "stream",
          "name": "stdout",
          "text": [
            "\n",
            "Топ 10 типов транзакций с наименьшей максимальной суммой прихода среди мужчин:\n",
            "╒═══════════╤══════════╕\n",
            "│  tr_type  │  amount  │\n",
            "╞═══════════╪══════════╡\n",
            "│   4051    │ 1122.96  │\n",
            "├───────────┼──────────┤\n",
            "│   4110    │ 2245.92  │\n",
            "├───────────┼──────────┤\n",
            "│   4210    │ 2245.92  │\n",
            "├───────────┼──────────┤\n",
            "│   2370    │ 2335.75  │\n",
            "├───────────┼──────────┤\n",
            "│   4100    │ 5041.86  │\n",
            "├───────────┼──────────┤\n",
            "│   7075    │ 6737.75  │\n",
            "├───────────┼──────────┤\n",
            "│   2110    │ 22459.2  │\n",
            "├───────────┼──────────┤\n",
            "│   1010    │ 24839.8  │\n",
            "├───────────┼──────────┤\n",
            "│   2010    │ 44918.3  │\n",
            "├───────────┼──────────┤\n",
            "│   2210    │ 68315.8  │\n",
            "╘═══════════╧══════════╛\n",
            "\n",
            "Топ 10 типов транзакций с наименьшей максимальной суммой прихода среди женщин:\n",
            "╒═══════════╤══════════╕\n",
            "│  tr_type  │  amount  │\n",
            "╞═══════════╪══════════╡\n",
            "│   4110    │ 2245.92  │\n",
            "├───────────┼──────────┤\n",
            "│   2020    │ 2245.92  │\n",
            "├───────────┼──────────┤\n",
            "│   1010    │ 28803.9  │\n",
            "├───────────┼──────────┤\n",
            "│   8100    │ 64682.4  │\n",
            "├───────────┼──────────┤\n",
            "│   6000    │ 79280.8  │\n",
            "├───────────┼──────────┤\n",
            "│   7041    │ 87590.7  │\n",
            "├───────────┼──────────┤\n",
            "│   2010    │ 89836.6  │\n",
            "├───────────┼──────────┤\n",
            "│   2110    │  112296  │\n",
            "├───────────┼──────────┤\n",
            "│   2370    │  113194  │\n",
            "├───────────┼──────────┤\n",
            "│   7015    │  121279  │\n",
            "╘═══════════╧══════════╛\n",
            "\n",
            " Типы транзакций, которые встречаются одновременно и у мужчин, и у женщин:\n",
            "╒══════╤═══════════════════╤═════════════════════╕\n",
            "│      │  max_income_male  │  max_income_female  │\n",
            "╞══════╪═══════════════════╪═════════════════════╡\n",
            "│ 1010 │      24839.8      │       28803.9       │\n",
            "├──────┼───────────────────┼─────────────────────┤\n",
            "│ 2010 │      44918.3      │       89836.6       │\n",
            "├──────┼───────────────────┼─────────────────────┤\n",
            "│ 2110 │      22459.2      │       112296        │\n",
            "├──────┼───────────────────┼─────────────────────┤\n",
            "│ 2370 │      2335.75      │       113194        │\n",
            "├──────┼───────────────────┼─────────────────────┤\n",
            "│ 4110 │      2245.92      │       2245.92       │\n",
            "╘══════╧═══════════════════╧═════════════════════╛\n"
          ]
        }
      ]
    },
    {
      "cell_type": "markdown",
      "metadata": {
        "id": "W-LaVwRdR3UB"
      },
      "source": [
        "## Задание 7"
      ]
    },
    {
      "cell_type": "markdown",
      "metadata": {
        "id": "rhI4NOciR7e0"
      },
      "source": [
        "1. Найдите суммы затрат по каждой категории (mcc) для мужчин и для женщин. \n",
        "2. Найдите топ 10 категорий с самыми большими относительными модулями разности в тратах для разных полов (в ответе должны присутствовать описания mcc кодов)."
      ]
    },
    {
      "cell_type": "code",
      "source": [
        "sum_expenses_for_mcc_codes = pd.DataFrame(\n",
        "    index=transactions.mcc_code.unique(),\n",
        ")\n",
        "\n",
        "sum_expenses_for_mcc_codes['male_sum_expenses'] = \\\n",
        "    transactions[(transactions.gender == genders['male']) & (transactions.amount < 0.0)].groupby('mcc_code').amount.sum()\n",
        "\n",
        "sum_expenses_for_mcc_codes['female_sum_expenses'] = \\\n",
        "    transactions[(transactions.gender == genders['female']) & (transactions.amount < 0.0)].groupby('mcc_code').amount.sum()\n",
        "\n",
        "sum_expenses_for_mcc_codes['diff_between_gender_expenses'] = \\\n",
        "    np.abs(sum_expenses_for_mcc_codes.male_sum_expenses - sum_expenses_for_mcc_codes.female_sum_expenses)\n",
        "\n",
        "sum_expenses_for_mcc_codes['mcc_description'] = \\\n",
        "    tr_mcc_codes.loc[sum_expenses_for_mcc_codes.index].mcc_description\n",
        "\n",
        "# print_dataframe(sum_expenses_for_mcc_codes)\n",
        "\n",
        "top10_diff_between_male_and_female_expenses = \\\n",
        "    sum_expenses_for_mcc_codes.sort_values(by='diff_between_gender_expenses', ignore_index=False, ascending=False).head(10)\n",
        "\n",
        "print(\"\\n Топ 10 категорий с самыми большими модулями разности в тратах для разных полов:\")\n",
        "print_dataframe(top10_diff_between_male_and_female_expenses)"
      ],
      "metadata": {
        "id": "naj50SuoIH8w",
        "colab": {
          "base_uri": "https://localhost:8080/"
        },
        "outputId": "fa0749c1-3d0d-4c6c-85e6-7881f27485db"
      },
      "execution_count": null,
      "outputs": [
        {
          "output_type": "stream",
          "name": "stdout",
          "text": [
            "\n",
            " Топ 10 категорий с самыми большими модулями разности в тратах для разных полов:\n",
            "╒══════╤═════════════════════╤═══════════════════════╤════════════════════════════════╤════════════════════════════════════════════════════════════════════════════╕\n",
            "│      │  male_sum_expenses  │  female_sum_expenses  │  diff_between_gender_expenses  │ mcc_description                                                            │\n",
            "╞══════╪═════════════════════╪═══════════════════════╪════════════════════════════════╪════════════════════════════════════════════════════════════════════════════╡\n",
            "│ 6011 │    -4.95808e+09     │     -8.04394e+09      │          3.08586e+09           │ Финансовые институты — снятие наличности автоматически                     │\n",
            "├──────┼─────────────────────┼───────────────────────┼────────────────────────────────┼────────────────────────────────────────────────────────────────────────────┤\n",
            "│ 4829 │    -3.51386e+09     │     -6.01302e+09      │          2.49915e+09           │ Денежные переводы                                                          │\n",
            "├──────┼─────────────────────┼───────────────────────┼────────────────────────────────┼────────────────────────────────────────────────────────────────────────────┤\n",
            "│ 6010 │    -2.61273e+08     │     -4.82131e+08      │          2.20858e+08           │ Финансовые институты — снятие наличности вручную                           │\n",
            "├──────┼─────────────────────┼───────────────────────┼────────────────────────────────┼────────────────────────────────────────────────────────────────────────────┤\n",
            "│ 5541 │    -5.16249e+07     │     -2.07057e+08      │          1.55433e+08           │ Станции техобслуживания                                                    │\n",
            "├──────┼─────────────────────┼───────────────────────┼────────────────────────────────┼────────────────────────────────────────────────────────────────────────────┤\n",
            "│ 5511 │    -5.09516e+06     │     -7.86239e+07      │          7.35288e+07           │ Легковой и грузовой транспорт — продажа, сервис, ремонт, запчасти и лизинг │\n",
            "├──────┼─────────────────────┼───────────────────────┼────────────────────────────────┼────────────────────────────────────────────────────────────────────────────┤\n",
            "│ 5812 │    -5.78796e+07     │     -1.28258e+08      │          7.03786e+07           │ Места общественного питания, рестораны                                     │\n",
            "├──────┼─────────────────────┼───────────────────────┼────────────────────────────────┼────────────────────────────────────────────────────────────────────────────┤\n",
            "│ 5977 │    -7.36078e+07     │     -3.11902e+07      │          4.24176e+07           │ Магазины косметики                                                         │\n",
            "├──────┼─────────────────────┼───────────────────────┼────────────────────────────────┼────────────────────────────────────────────────────────────────────────────┤\n",
            "│ 5533 │    -1.27898e+07     │     -5.51279e+07      │          4.23381e+07           │ Автозапчасти и аксессуары                                                  │\n",
            "├──────┼─────────────────────┼───────────────────────┼────────────────────────────────┼────────────────────────────────────────────────────────────────────────────┤\n",
            "│ 7995 │       -118910       │     -4.09146e+07      │          4.07956e+07           │ Транзакции по азартным играм                                               │\n",
            "├──────┼─────────────────────┼───────────────────────┼────────────────────────────────┼────────────────────────────────────────────────────────────────────────────┤\n",
            "│ 5661 │    -8.18314e+07     │     -4.36767e+07      │          3.81547e+07           │ Обувные магазины                                                           │\n",
            "╘══════╧═════════════════════╧═══════════════════════╧════════════════════════════════╧════════════════════════════════════════════════════════════════════════════╛\n"
          ]
        }
      ]
    },
    {
      "cell_type": "markdown",
      "metadata": {
        "id": "aGaPkQkVSvl8"
      },
      "source": [
        "## Задание 8"
      ]
    },
    {
      "cell_type": "markdown",
      "metadata": {
        "id": "T7Ox1qAXTHQl"
      },
      "source": [
        "1. Из поля tr_datetime выделите час tr_hour, в который произошла транзакция, как первые 2 цифры до \":\". (\\**)\n",
        "2. Посчитайте количество транзакций с amount<0 в ночное время для мужчин и женщин. Ночное время - это примерно 00-06 часов. "
      ]
    },
    {
      "cell_type": "code",
      "source": [
        "night_expenses = transactions[(transactions.amount < 0.0)]\n",
        "night_expenses['tr_hour'] = pd.Series(int(tr_datetime[-8:-6]) for tr_datetime in transactions.tr_datetime)\n",
        "night_expenses = night_expenses[(night_expenses.tr_hour >= 0) & (night_expenses.tr_hour < 6)]\n",
        "\n",
        "male_night_expenses = night_expenses[(night_expenses.gender == genders['male'])]\n",
        "female_night_expenses = night_expenses[(night_expenses.gender == genders['female'])]\n",
        "\n",
        "male_number_of_transactions = len(male_night_expenses)\n",
        "female_number_of_transactions = len(female_night_expenses)\n",
        "\n",
        "print(\"Количество операций по снятию средств среди мужчин в ночное время суток:\", male_number_of_transactions)\n",
        "print(\"Количество операций по снятию средств среди женщин в ночное время суток:\", female_number_of_transactions)\n",
        "print()\n",
        "\n",
        "\n",
        "\n",
        "# # Не работает, т.к. в некоторых строчках 60 секунд, например 15:42:60.\n",
        "# # Из-за этого не может нормально конвертировать в datetime.\n",
        "# # re.search(' (.+?):', tr_datetime).group(1) тоже не работает, скорее всего, из-за неверного выражения.\n",
        "# def get_tr_hour(tr_datetime):\n",
        "#     print(tr_datetime, type(tr_datetime))\n",
        "#     tr_hour = pd.to_datetime(transactions.tr_datetime[-8:]).dt.hour\n",
        "#     print(tr_hour, type(tr_hour))\n",
        "#     return tr_hour\n",
        "\n",
        "\n",
        "# # Не хочет применяться в отсеивании таблицы, воспринимается как обычный массив вместо конкретного значения в строчке\n",
        "# def check_tr_hour_for_night_time(tr_hour):\n",
        "#     begin_night = 0\n",
        "#     end_night = 6\n",
        "#     return (int(tr_hour) >= begin_night) & (int(tr_hour) <= end_night)"
      ],
      "metadata": {
        "colab": {
          "base_uri": "https://localhost:8080/"
        },
        "id": "1oT_pce5TUBK",
        "outputId": "a1858878-61a2-42db-b8ff-d6a93b6249ed"
      },
      "execution_count": null,
      "outputs": [
        {
          "output_type": "stream",
          "name": "stdout",
          "text": [
            "Количество операций по снятию средств среди мужчин в ночное время суток: 38827\n",
            "Количество операций по снятию средств среди женщин в ночное время суток: 43017\n",
            "\n"
          ]
        },
        {
          "output_type": "stream",
          "name": "stderr",
          "text": [
            "/usr/local/lib/python3.7/dist-packages/ipykernel_launcher.py:2: SettingWithCopyWarning: \n",
            "A value is trying to be set on a copy of a slice from a DataFrame.\n",
            "Try using .loc[row_indexer,col_indexer] = value instead\n",
            "\n",
            "See the caveats in the documentation: https://pandas.pydata.org/pandas-docs/stable/user_guide/indexing.html#returning-a-view-versus-a-copy\n",
            "  \n"
          ]
        }
      ]
    }
  ]
}